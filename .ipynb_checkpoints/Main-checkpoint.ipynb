{
 "cells": [
  {
   "cell_type": "code",
   "execution_count": 2,
   "metadata": {},
   "outputs": [],
   "source": [
    "import numpy as np\n",
    "import cv2"
   ]
  },
  {
   "cell_type": "code",
   "execution_count": 3,
   "metadata": {},
   "outputs": [],
   "source": [
    "def apply_mask(face: np.array, mask: np.array) -> np.array:\n",
    "    \"\"\"Add the mask to the provided face, and return the face with mask.\"\"\"\n",
    "    mask_h, mask_w, _ = mask.shape\n",
    "    face_h, face_w, _ = face.shape\n",
    "    \n",
    "    # Resize the mask to fit on face\n",
    "    factor = min(face_h / mask_h, face_w / mask_w)\n",
    "    \n",
    "    new_mask_w = int(factor * mask_w)\n",
    "    new_mask_h = int(factor * mask_h)\n",
    "    new_mask_shape = (new_mask_w, new_mask_h)\n",
    "    \n",
    "    resized_mask = cv2.resize(mask, new_mask_shape)\n",
    "    \n",
    "    face_with_mask = face.copy()\n",
    "    non_white_pixels = (resized_mask < 250).all(axis=2)\n",
    "    \n",
    "    off_h = int((face_h - new_mask_h) / 2)\n",
    "    off_w = int((face_w - new_mask_w) / 2)\n",
    "    \n",
    "    face_with_mask[off_h: off_h+new_mask_h, off_w: off_w+new_mask_w][non_white_pixels] = \\\n",
    "         resized_mask[non_white_pixels]\n",
    "    return face_with_mask"
   ]
  },
  {
   "cell_type": "code",
   "execution_count": 4,
   "metadata": {},
   "outputs": [
    {
     "ename": "NameError",
     "evalue": "name 'face' is not defined",
     "output_type": "error",
     "traceback": [
      "\u001b[1;31m---------------------------------------------------------------------------\u001b[0m",
      "\u001b[1;31mNameError\u001b[0m                                 Traceback (most recent call last)",
      "\u001b[1;32m<ipython-input-4-a51a958c2373>\u001b[0m in \u001b[0;36m<module>\u001b[1;34m\u001b[0m\n\u001b[0;32m     22\u001b[0m \u001b[1;33m\u001b[0m\u001b[0m\n\u001b[0;32m     23\u001b[0m \u001b[1;33m\u001b[0m\u001b[0m\n\u001b[1;32m---> 24\u001b[1;33m     \u001b[0mface_with_mask\u001b[0m \u001b[1;33m=\u001b[0m \u001b[0mapply_mask\u001b[0m\u001b[1;33m(\u001b[0m\u001b[0mface\u001b[0m\u001b[1;33m,\u001b[0m \u001b[0mmask\u001b[0m\u001b[1;33m)\u001b[0m\u001b[1;33m\u001b[0m\u001b[1;33m\u001b[0m\u001b[0m\n\u001b[0m\u001b[0;32m     25\u001b[0m     \u001b[0mcv2\u001b[0m\u001b[1;33m.\u001b[0m\u001b[0mimshow\u001b[0m\u001b[1;33m(\u001b[0m\u001b[1;34m\"CamFeed\"\u001b[0m\u001b[1;33m,\u001b[0m\u001b[0mframe\u001b[0m\u001b[1;33m)\u001b[0m\u001b[1;33m\u001b[0m\u001b[1;33m\u001b[0m\u001b[0m\n\u001b[0;32m     26\u001b[0m \u001b[1;33m\u001b[0m\u001b[0m\n",
      "\u001b[1;31mNameError\u001b[0m: name 'face' is not defined"
     ]
    }
   ],
   "source": [
    "cap = cv2.VideoCapture(0)\n",
    "\n",
    "face_cascade = cv2.CascadeClassifier('haarcascade_frontalface_default.xml')\n",
    "\n",
    "if cap.isOpened():\n",
    "    ret,frame = cap.read()\n",
    "else:\n",
    "    ret = False\n",
    "\n",
    "while ret:\n",
    "    mask = cv2.imread('dog.png')\n",
    "    ret,frame = cap.read()\n",
    "    frame_h, frame_w, _ = frame.shape\n",
    "    gray = cv2.cvtColor(frame,cv2.COLOR_BGR2GRAY)\n",
    "    faces = face_cascade.detectMultiScale(gray, 1.3, 5)\n",
    "    for (x,y,w,h) in faces:\n",
    "        y0, y1 = int(y - 0.25*h), int(y + 0.75*h)\n",
    "        x0, x1 = x, x + w\n",
    "        if x0 < 0 or y0 < 0 or x1 > frame_w or y1 > frame_h:\n",
    "            continue\n",
    "        frame[y0: y1, x0: x1] = apply_mask(frame[y0: y1, x0: x1], mask)\n",
    "    \n",
    "    cv2.imshow(\"CamFeed\",frame)\n",
    "    \n",
    "    if cv2.waitKey(1) == 27:\n",
    "        break\n",
    "\n",
    "cv2.destroyAllWindows()\n",
    "cap.release()"
   ]
  },
  {
   "cell_type": "code",
   "execution_count": null,
   "metadata": {},
   "outputs": [],
   "source": []
  }
 ],
 "metadata": {
  "kernelspec": {
   "display_name": "Python 3",
   "language": "python",
   "name": "python3"
  }
 },
 "nbformat": 4,
 "nbformat_minor": 4
}
