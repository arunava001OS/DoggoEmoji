{
 "cells": [
  {
   "cell_type": "code",
   "execution_count": 4,
   "metadata": {},
   "outputs": [],
   "source": [
    "import numpy as np\n",
    "import cv2"
   ]
  },
  {
   "cell_type": "code",
   "execution_count": 5,
   "metadata": {},
   "outputs": [],
   "source": [
    "def apply_mask(face: np.array, mask: np.array) -> np.array:\n",
    "    \"\"\"Add the mask to the provided face, and return the face with mask.\"\"\"\n",
    "    mask_h, mask_w, _ = mask.shape\n",
    "    face_h, face_w, _ = face.shape\n",
    "    \n",
    "    # Resize the mask to fit on face\n",
    "    factor = min(face_h / mask_h, face_w / mask_w)\n",
    "    \n",
    "    new_mask_w = int(factor * mask_w)\n",
    "    new_mask_h = int(factor * mask_h)\n",
    "    new_mask_shape = (new_mask_w, new_mask_h)\n",
    "    \n",
    "    resized_mask = cv2.resize(mask, new_mask_shape)\n",
    "    \n",
    "    face_with_mask = face.copy()\n",
    "    non_white_pixels = (resized_mask < 250).all(axis=2)\n",
    "    \n",
    "    off_h = int((face_h - new_mask_h) / 2)\n",
    "    off_w = int((face_w - new_mask_w) / 2)\n",
    "    \n",
    "    face_with_mask[off_h: off_h+new_mask_h, off_w: off_w+new_mask_w][non_white_pixels] = \\\n",
    "         resized_mask[non_white_pixels]\n",
    "    return face_with_mask"
   ]
  },
  {
   "cell_type": "code",
   "execution_count": 6,
   "metadata": {},
   "outputs": [],
   "source": [
    "cap = cv2.VideoCapture(0)\n",
    "\n",
    "face_cascade = cv2.CascadeClassifier('haarcascade_frontalface_default.xml')\n",
    "\n",
    "if cap.isOpened():\n",
    "    ret,frame = cap.read()\n",
    "else:\n",
    "    ret = False\n",
    "\n",
    "while ret:\n",
    "    mask = cv2.imread('dog.png')\n",
    "    ret,frame = cap.read()\n",
    "    frame_h, frame_w, _ = frame.shape\n",
    "    gray = cv2.cvtColor(frame,cv2.COLOR_BGR2GRAY)\n",
    "    faces = face_cascade.detectMultiScale(gray, 1.3, 5)\n",
    "    for (x,y,w,h) in faces:\n",
    "        y0, y1 = int(y - 0.25*h), int(y + 0.75*h)\n",
    "        x0, x1 = x, x + w\n",
    "        if x0 < 0 or y0 < 0 or x1 > frame_w or y1 > frame_h:\n",
    "            continue\n",
    "        frame[y0: y1, x0: x1] = apply_mask(frame[y0: y1, x0: x1], mask)\n",
    "    \n",
    "    cv2.imshow(\"CamFeed\",frame)\n",
    "    \n",
    "    if cv2.waitKey(1) == 27:\n",
    "        break\n",
    "\n",
    "cv2.destroyAllWindows()\n",
    "cap.release()"
   ]
  },
  {
   "cell_type": "code",
   "execution_count": null,
   "metadata": {},
   "outputs": [],
   "source": []
  }
 ],
 "metadata": {
  "kernelspec": {
   "display_name": "Python 3",
   "language": "python",
   "name": "python3"
  },
  "language_info": {
   "codemirror_mode": {
    "name": "ipython",
    "version": 3
   },
   "file_extension": ".py",
   "mimetype": "text/x-python",
   "name": "python",
   "nbconvert_exporter": "python",
   "pygments_lexer": "ipython3",
   "version": "3.8.0"
  }
 },
 "nbformat": 4,
 "nbformat_minor": 4
}
